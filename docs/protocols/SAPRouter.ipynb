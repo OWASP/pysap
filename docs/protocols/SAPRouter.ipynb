{
 "cells": [
  {
   "cell_type": "markdown",
   "metadata": {
    "deletable": true,
    "editable": true,
    "slideshow": {
     "slide_type": "slide"
    }
   },
   "source": [
    "# SAP Router"
   ]
  },
  {
   "cell_type": "markdown",
   "metadata": {
    "deletable": true,
    "editable": true
   },
   "source": [
    "The following subsections show a graphical representation of the main protocol packets and how to generate them.\n",
    "\n",
    "First we need to perform some setup to import the packet classes:"
   ]
  },
  {
   "cell_type": "code",
   "execution_count": null,
   "metadata": {
    "collapsed": false,
    "deletable": true,
    "editable": true,
    "slideshow": {
     "slide_type": "skip"
    }
   },
   "outputs": [],
   "source": [
    "from pysap.SAPRouter import *\n",
    "from IPython.display import display"
   ]
  },
  {
   "cell_type": "markdown",
   "metadata": {
    "deletable": true,
    "editable": true
   },
   "source": [
    "## SAP Router Admin packets"
   ]
  },
  {
   "cell_type": "code",
   "execution_count": null,
   "metadata": {
    "collapsed": false,
    "deletable": true,
    "editable": true,
    "slideshow": {
     "slide_type": "subslide"
    }
   },
   "outputs": [],
   "source": [
    "for command in router_adm_commands:\n",
    "    p = SAPRouter(type=SAPRouter.SAPROUTER_ADMIN, adm_command=command)\n",
    "    print(router_adm_commands[command])\n",
    "    display(p.canvas_dump())"
   ]
  },
  {
   "cell_type": "markdown",
   "metadata": {
    "deletable": true,
    "editable": true,
    "slideshow": {
     "slide_type": "slide"
    }
   },
   "source": [
    "## SAP Router Error Information / Control packets"
   ]
  },
  {
   "cell_type": "code",
   "execution_count": null,
   "metadata": {
    "collapsed": false,
    "deletable": true,
    "editable": true,
    "slideshow": {
     "slide_type": "subslide"
    }
   },
   "outputs": [],
   "source": [
    "for opcode in router_control_opcodes:\n",
    "    p = SAPRouter(type=SAPRouter.SAPROUTER_CONTROL, opcode=opcode)\n",
    "    if opcode in [70, 71]:\n",
    "        p.snc_frame = \"\"\n",
    "    print(router_control_opcodes[opcode])\n",
    "    display(p.canvas_dump())"
   ]
  },
  {
   "cell_type": "markdown",
   "metadata": {
    "deletable": true,
    "editable": true
   },
   "source": [
    "## SAP Router Route packet"
   ]
  },
  {
   "cell_type": "code",
   "execution_count": null,
   "metadata": {
    "collapsed": false,
    "deletable": true,
    "editable": true,
    "slideshow": {
     "slide_type": "slide"
    }
   },
   "outputs": [],
   "source": [
    "router_string = [SAPRouterRouteHop(hostname=\"8.8.8.8\", port=3299),\n",
    "                 SAPRouterRouteHop(hostname=\"10.0.0.1\", port=3200, password=\"S3cr3t\")]\n",
    "router_string_lens = map(len, map(str, router_string))\n",
    "p = SAPRouter(type=SAPRouter.SAPROUTER_ROUTE,\n",
    "              route_entries=len(router_string),\n",
    "              route_talk_mode=1,\n",
    "              route_rest_nodes=1,\n",
    "              route_length=sum(router_string_lens),\n",
    "              route_offset=router_string_lens[0],\n",
    "              route_string=router_string)\n",
    "display(p.canvas_dump())\n",
    "for x in router_string:\n",
    "    display(x.canvas_dump())"
   ]
  },
  {
   "cell_type": "markdown",
   "metadata": {
    "deletable": true,
    "editable": true,
    "slideshow": {
     "slide_type": "slide"
    }
   },
   "source": [
    "## SAP Router Pong packet"
   ]
  },
  {
   "cell_type": "code",
   "execution_count": null,
   "metadata": {
    "collapsed": false,
    "deletable": true,
    "editable": true,
    "slideshow": {
     "slide_type": "subslide"
    }
   },
   "outputs": [],
   "source": [
    "p = SAPRouter(type=SAPRouter.SAPROUTER_PONG)\n",
    "p.canvas_dump()"
   ]
  }
 ],
 "metadata": {
  "kernelspec": {
   "display_name": "pysap-python3.10",
   "language": "python",
   "name": "python3"
  },
  "language_info": {
   "codemirror_mode": {
    "name": "ipython",
    "version": 2
   },
   "file_extension": ".py",
   "mimetype": "text/x-python",
   "name": "python",
   "nbconvert_exporter": "python",
   "pygments_lexer": "ipython2",
   "version": "3.10.6"
  }
 },
 "nbformat": 4,
 "nbformat_minor": 0
}
