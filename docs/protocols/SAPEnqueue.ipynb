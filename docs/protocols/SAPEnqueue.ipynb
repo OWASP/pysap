{
 "cells": [
  {
   "cell_type": "markdown",
   "metadata": {
    "deletable": true,
    "editable": true
   },
   "source": [
    "# SAP Enqueue"
   ]
  },
  {
   "cell_type": "markdown",
   "metadata": {
    "deletable": true,
    "editable": true
   },
   "source": [
    "The following subsections show a graphical representation of the main protocol packets and how to generate them.\n",
    "\n",
    "First we need to perform some setup to import the packet classes:"
   ]
  },
  {
   "cell_type": "code",
   "execution_count": null,
   "metadata": {
    "collapsed": false,
    "deletable": true,
    "editable": true
   },
   "outputs": [],
   "source": [
    "from pysap.SAPEnqueue import *\n",
    "from IPython.display import display"
   ]
  },
  {
   "cell_type": "markdown",
   "metadata": {
    "deletable": true,
    "editable": true
   },
   "source": [
    "## SAP Enqueue packet"
   ]
  },
  {
   "cell_type": "code",
   "execution_count": null,
   "metadata": {
    "collapsed": false,
    "deletable": true,
    "editable": true
   },
   "outputs": [],
   "source": [
    "for dest in enqueue_dest_values:\n",
    "    p = SAPEnqueue(dest=dest)\n",
    "    print(enqueue_dest_values[dest])\n",
    "    display(p.canvas_dump())"
   ]
  },
  {
   "cell_type": "markdown",
   "metadata": {
    "deletable": true,
    "editable": true
   },
   "source": [
    "## SAP Enqueue Server Admin opcodes"
   ]
  },
  {
   "cell_type": "code",
   "execution_count": null,
   "metadata": {
    "collapsed": false,
    "deletable": true,
    "editable": true
   },
   "outputs": [],
   "source": [
    "for opcode in enqueue_server_admin_opcode_values:\n",
    "    p = SAPEnqueue(dest=3, opcode=opcode)\n",
    "    print(enqueue_server_admin_opcode_values[opcode])\n",
    "    display(p.canvas_dump())"
   ]
  },
  {
   "cell_type": "markdown",
   "metadata": {
    "deletable": true,
    "editable": true
   },
   "source": [
    "## SAP Enqueue Connection Admin opcodes"
   ]
  },
  {
   "cell_type": "code",
   "execution_count": null,
   "metadata": {
    "collapsed": false,
    "deletable": true,
    "editable": true
   },
   "outputs": [],
   "source": [
    "for opcode in enqueue_conn_admin_opcode_values:\n",
    "    p = SAPEnqueue(dest=6, opcode=opcode)\n",
    "    print(enqueue_conn_admin_opcode_values[opcode])\n",
    "    display(p.canvas_dump())"
   ]
  },
  {
   "cell_type": "markdown",
   "metadata": {
    "deletable": true,
    "editable": true
   },
   "source": [
    "## SAP Enqueue Connection Admin parameters"
   ]
  },
  {
   "cell_type": "code",
   "execution_count": null,
   "metadata": {
    "collapsed": false,
    "deletable": true,
    "editable": true
   },
   "outputs": [],
   "source": [
    "for param in enqueue_param_values:\n",
    "    p = SAPEnqueueParam(param=param)\n",
    "    print(enqueue_param_values[param])\n",
    "    display(p.canvas_dump())"
   ]
  }
 ],
 "metadata": {
  "kernelspec": {
   "display_name": "pysap-python3.10",
   "language": "python",
   "name": "python3"
  },
  "language_info": {
   "codemirror_mode": {
    "name": "ipython",
    "version": 2
   },
   "file_extension": ".py",
   "mimetype": "text/x-python",
   "name": "python",
   "nbconvert_exporter": "python",
   "pygments_lexer": "ipython2",
   "version": "3.10.6"
  }
 },
 "nbformat": 4,
 "nbformat_minor": 0
}
