{
 "cells": [
  {
   "cell_type": "markdown",
   "metadata": {},
   "source": [
    "# SAP HANA SQL Command Network Protocol (HDB)"
   ]
  },
  {
   "cell_type": "markdown",
   "metadata": {},
   "source": [
    "The following subsections show a graphical representation of the main protocol packets and how to generate them.\n",
    "\n",
    "First we need to perform some setup to import the packet classes:"
   ]
  },
  {
   "cell_type": "code",
   "execution_count": null,
   "metadata": {},
   "outputs": [],
   "source": [
    "from pysap.SAPHDB import *\n",
    "from pprint import pprint\n",
    "from IPython.display import display"
   ]
  },
  {
   "cell_type": "markdown",
   "metadata": {},
   "source": [
    "## SAP HANA SQL Command Network Protocol Initialization Request Packet"
   ]
  },
  {
   "cell_type": "code",
   "execution_count": null,
   "metadata": {},
   "outputs": [],
   "source": [
    "p = SAPHDBInitializationRequest()\n",
    "p.canvas_dump()"
   ]
  },
  {
   "cell_type": "markdown",
   "metadata": {},
   "source": [
    "## SAP HANA SQL Command Network Protocol Initialization Reply Packet"
   ]
  },
  {
   "cell_type": "code",
   "execution_count": null,
   "metadata": {},
   "outputs": [],
   "source": [
    "p = SAPHDBInitializationReply()\n",
    "p.canvas_dump()"
   ]
  },
  {
   "cell_type": "markdown",
   "metadata": {},
   "source": [
    "## SAP HANA SQL Command Network Protocol packet"
   ]
  },
  {
   "cell_type": "code",
   "execution_count": null,
   "metadata": {},
   "outputs": [],
   "source": [
    "p = SAPHDB()\n",
    "p.canvas_dump()"
   ]
  },
  {
   "cell_type": "markdown",
   "metadata": {},
   "source": [
    "## SAP HANA SQL Command Network Protocol Segment packet"
   ]
  },
  {
   "cell_type": "code",
   "execution_count": null,
   "metadata": {},
   "outputs": [],
   "source": [
    "for segment_kind in hdb_segmentkind_values:\n",
    "    p = SAPHDBSegment(segmentkind=segment_kind)\n",
    "    print(hdb_segmentkind_values[segment_kind])\n",
    "    display(p.canvas_dump())"
   ]
  },
  {
   "cell_type": "markdown",
   "metadata": {},
   "source": [
    "## SAP HANA SQL Command Network Protocol Part packet"
   ]
  },
  {
   "cell_type": "code",
   "execution_count": null,
   "metadata": {},
   "outputs": [],
   "source": [
    "for part_kind in hdb_partkind_values:\n",
    "    p = SAPHDBPart(partkind=part_kind)\n",
    "    print(hdb_partkind_values[part_kind])\n",
    "    display(p.canvas_dump())"
   ]
  },
  {
   "cell_type": "markdown",
   "metadata": {},
   "source": [
    "## SAP HANA SQL Command Network Protocol Authenticate Segment"
   ]
  },
  {
   "cell_type": "markdown",
   "metadata": {},
   "source": [
    "### SAP HANA SQL Command Network Protocol Authentication Field"
   ]
  },
  {
   "cell_type": "code",
   "execution_count": null,
   "metadata": {},
   "outputs": [],
   "source": [
    "auth_fields = [SAPHDBPartAuthenticationField(value=\"username\"),\n",
    "               SAPHDBPartAuthenticationField(value=\"SCRAMSHA256\"),\n",
    "               SAPHDBPartAuthenticationField(value=\"XXXXX\")]\n",
    "for auth_field in auth_fields:\n",
    "    display(auth_field.canvas_dump())"
   ]
  },
  {
   "cell_type": "markdown",
   "metadata": {},
   "source": [
    "### SAP HANA SQL Command Network Protocol Authentication Part"
   ]
  },
  {
   "cell_type": "code",
   "execution_count": null,
   "metadata": {},
   "outputs": [],
   "source": [
    "auth_part = SAPHDBPartAuthentication(auth_fields=auth_fields)\n",
    "display(auth_part.canvas_dump())"
   ]
  },
  {
   "cell_type": "markdown",
   "metadata": {},
   "source": [
    "## SAP HANA SQL Command Network Protocol Client ID Part"
   ]
  },
  {
   "cell_type": "code",
   "execution_count": null,
   "metadata": {},
   "outputs": [],
   "source": [
    "p = SAPHDBPartClientId(clientid=\"pid@hostname\")\n",
    "display(p.canvas_dump())"
   ]
  },
  {
   "cell_type": "markdown",
   "metadata": {},
   "source": [
    "## SAP HANA SQL Command Network Protocol Command Part"
   ]
  },
  {
   "cell_type": "code",
   "execution_count": null,
   "metadata": {},
   "outputs": [],
   "source": [
    "p = SAPHDBPartCommand(command=\"command\")\n",
    "display(p.canvas_dump())"
   ]
  },
  {
   "cell_type": "markdown",
   "metadata": {},
   "source": [
    "## SAP HANA SQL Command Network Protocol Error Part"
   ]
  },
  {
   "cell_type": "code",
   "execution_count": null,
   "metadata": {},
   "outputs": [],
   "source": [
    "p = SAPHDBPartError()\n",
    "display(p.canvas_dump())"
   ]
  },
  {
   "cell_type": "markdown",
   "metadata": {},
   "source": [
    "## SAP HANA SQL Command Network Protocol Option Part Row"
   ]
  },
  {
   "cell_type": "code",
   "execution_count": null,
   "metadata": {},
   "outputs": [],
   "source": [
    "p = SAPHDBOptionPartRow()\n",
    "display(p.canvas_dump())"
   ]
  },
  {
   "cell_type": "code",
   "execution_count": null,
   "metadata": {
    "scrolled": false
   },
   "outputs": [],
   "source": [
    "for option_part_class in SAPHDBOptionPartRow.__subclasses__():\n",
    "    print(option_part_class._name)\n",
    "    for key, value in option_part_class.option_keys.items():\n",
    "        print(\"Key: %s\\tName: %s\" % (key, value))\n",
    "    print(\"\")"
   ]
  },
  {
   "cell_type": "markdown",
   "metadata": {},
   "source": [
    "## SAP HANA SQL Command Network Protocol Multi-Line Option Part"
   ]
  },
  {
   "cell_type": "code",
   "execution_count": null,
   "metadata": {},
   "outputs": [],
   "source": [
    "p = SAPHDBMultiLineOptionPartRow()\n",
    "display(p.canvas_dump())"
   ]
  }
 ],
 "metadata": {
  "kernelspec": {
   "display_name": "pysap-python3.10",
   "language": "python",
   "name": "python3"
  },
  "language_info": {
   "codemirror_mode": {
    "name": "ipython",
    "version": 2
   },
   "file_extension": ".py",
   "mimetype": "text/x-python",
   "name": "python",
   "nbconvert_exporter": "python",
   "pygments_lexer": "ipython2",
   "version": "3.10.6"
  }
 },
 "nbformat": 4,
 "nbformat_minor": 1
}
