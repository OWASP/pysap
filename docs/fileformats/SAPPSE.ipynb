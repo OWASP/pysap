{
 "cells": [
  {
   "cell_type": "markdown",
   "metadata": {},
   "source": [
    "# SAP PSE"
   ]
  },
  {
   "cell_type": "markdown",
   "metadata": {},
   "source": [
    "The following subsections show a representation of the file format portions and how to generate them.\n",
    "\n",
    "First we need to perform some setup to import the packet classes:"
   ]
  },
  {
   "cell_type": "code",
   "execution_count": null,
   "metadata": {
    "collapsed": true
   },
   "outputs": [],
   "source": [
    "from pysap.SAPPSE import *\n",
    "from IPython.display import display"
   ]
  },
  {
   "cell_type": "markdown",
   "metadata": {},
   "source": [
    "## PSE file"
   ]
  },
  {
   "cell_type": "markdown",
   "metadata": {},
   "source": [
    "We'll read the files used in the test case suite and use them as example:"
   ]
  },
  {
   "cell_type": "code",
   "execution_count": null,
   "metadata": {
    "collapsed": false
   },
   "outputs": [],
   "source": [
    "with open(\"../../tests/data/pse_v2_lps_off_pbes1_3des_sha1.pse\", \"rb\") as fd:\n",
    "    pse_v2_string = fd.read()\n",
    "    \n",
    "pse_v2 = SAPPSEFile(pse_v2_string)          \n",
    "\n",
    "with open(\"../../tests/data/pse_v4_lps_off_pbes1_3des_sha1.pse\", \"rb\") as fd:\n",
    "    pse_v4_string = fd.read()\n",
    "\n",
    "pse_v4 = SAPPSEFile(pse_v4_string)"
   ]
  },
  {
   "cell_type": "markdown",
   "metadata": {},
   "source": [
    "The PSE file is comprised of the following main structures:"
   ]
  },
  {
   "cell_type": "markdown",
   "metadata": {},
   "source": [
    "### PSE version 2 Encrypted content"
   ]
  },
  {
   "cell_type": "code",
   "execution_count": null,
   "metadata": {
    "collapsed": false
   },
   "outputs": [],
   "source": [
    "pse_v2.show()"
   ]
  },
  {
   "cell_type": "markdown",
   "metadata": {},
   "source": [
    "### PSE version 4 Encrypted content"
   ]
  },
  {
   "cell_type": "code",
   "execution_count": null,
   "metadata": {
    "collapsed": false
   },
   "outputs": [],
   "source": [
    "pse_v4.show()"
   ]
  },
  {
   "cell_type": "markdown",
   "metadata": {},
   "source": [
    "### PSE Encrypted content decryption\n",
    "\n",
    "The content of the PSE file can be decrypted given the proper PIN is provided."
   ]
  },
  {
   "cell_type": "code",
   "execution_count": null,
   "metadata": {
    "collapsed": false
   },
   "outputs": [],
   "source": [
    "pse_v2.decrypt(\"1234567980\")"
   ]
  }
 ],
 "metadata": {
  "kernelspec": {
   "display_name": "pysap-python3.10",
   "language": "python",
   "name": "python3"
  },
  "language_info": {
   "codemirror_mode": {
    "name": "ipython",
    "version": 2
   },
   "file_extension": ".py",
   "mimetype": "text/x-python",
   "name": "python",
   "nbconvert_exporter": "python",
   "pygments_lexer": "ipython2",
   "version": "3.10.6"
  }
 },
 "nbformat": 4,
 "nbformat_minor": 2
}
