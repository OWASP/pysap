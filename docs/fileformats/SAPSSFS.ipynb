{
 "cells": [
  {
   "cell_type": "markdown",
   "metadata": {},
   "source": "# SAP SSFS"
  },
  {
   "cell_type": "markdown",
   "metadata": {},
   "source": "The following subsections show a representation of the file format portions and how to generate them.\n\nFirst we need to perform some setup to import the packet classes:"
  },
  {
   "cell_type": "code",
   "execution_count": 46,
   "metadata": {},
   "outputs": [],
   "source": "from pysap.SAPSSFS import *\nfrom pysap.utils.crypto import rsec_decrypt\nfrom IPython.display import display"
  },
  {
   "cell_type": "markdown",
   "metadata": {},
   "source": "## SSFS files"
  },
  {
   "cell_type": "markdown",
   "metadata": {},
   "source": "We'll read the key and data files used in the test case suite and use them as example:"
  },
  {
   "cell_type": "code",
   "execution_count": 47,
   "metadata": {},
   "outputs": [],
   "source": "with open(\"../../tests/data/ssfs_hdb_dat\", \"rb\") as fd:\n    data = fd.read()\n    \nssfs_data = SAPSSFSData(data)\n\nwith open(\"../../tests/data/ssfs_hdb_key\", \"rb\") as fd:\n    key = fd.read()\n\nssfs_key = SAPSSFSKey(key)"
  },
  {
   "cell_type": "markdown",
   "metadata": {},
   "source": "SSFS files are comprised of the following main structures:"
  },
  {
   "cell_type": "markdown",
   "metadata": {},
   "source": "### SSFS Data"
  },
  {
   "cell_type": "code",
   "execution_count": 48,
   "metadata": {},
   "outputs": [
    {
     "name": "stdout",
     "output_type": "stream",
     "text": "###[ SAP SSFS Data File ]### \n  \\records   \\\n   |###[ SAP SSFS Data Record ]### \n   |  preamble  = 'RSecSSFsData'\n   |  length    = 179\n   |  type      = 1\n   |  filler1   = ''\n   |  key_name  = 'HDB/KEYNAME/DB_CON_ENV                                          '\n   |  timestamp = '2019-11-26 16:15:40 UTC'\n   |  user      = 'SomeUser                '\n   |  host      = 'ubuntu                  '\n   |  is_deleted= no\n   |  is_stored_as_plaintext= yes\n   |  is_binary_data= no\n   |  filler2   = ''\n   |  hmac      = '\\x91\\x9c\\xbd&>U\\xa3\\x13\\xdb\\x11VG\\xc0\\xbb\\x86\\x9a:#\\x07\\x13'\n   |  data      = 'Env'\n   |###[ SAP SSFS Data Record ]### \n   |  preamble  = 'RSecSSFsData'\n   |  length    = 184\n   |  type      = 1\n   |  filler1   = ''\n   |  key_name  = 'HDB/KEYNAME/DB_DATABASE_NAME                                    '\n   |  timestamp = '2019-11-26 16:15:40 UTC'\n   |  user      = 'SomeUser                '\n   |  host      = 'ubuntu                  '\n   |  is_deleted= no\n   |  is_stored_as_plaintext= yes\n   |  is_binary_data= no\n   |  filler2   = ''\n   |  hmac      = '\\xf4\\x95\\xb6(\\xca\\xb0\\xa8t\"V;T\\xa5\\xc8\\xf3\\xa7\\xc5b\\xf5\\x08'\n   |  data      = 'Database'\n   |###[ SAP SSFS Data Record ]### \n   |  preamble  = 'RSecSSFsData'\n   |  length    = 184\n   |  type      = 1\n   |  filler1   = ''\n   |  key_name  = 'HDB/KEYNAME/DB_USER                                             '\n   |  timestamp = '2019-11-26 16:15:40 UTC'\n   |  user      = 'SomeUser                '\n   |  host      = 'ubuntu                  '\n   |  is_deleted= no\n   |  is_stored_as_plaintext= yes\n   |  is_binary_data= no\n   |  filler2   = ''\n   |  hmac      = ':\\x85N\\xf4\\xe9\\x8a\\xbe\\x93\\xfc\\x8f\\xb5\\x92\\x91\\x85\\x9b\\x8d!\\xbd_r'\n   |  data      = 'SomeUser'\n   |###[ SAP SSFS Data Record ]### \n   |  preamble  = 'RSecSSFsData'\n   |  length    = 304\n   |  type      = 1\n   |  filler1   = ''\n   |  key_name  = 'HDB/KEYNAME/DB_PASSWORD                                         '\n   |  timestamp = '2019-11-26 16:15:40 UTC'\n   |  user      = 'SomeUser                '\n   |  host      = 'ubuntu                  '\n   |  is_deleted= no\n   |  is_stored_as_plaintext= no\n   |  is_binary_data= no\n   |  filler2   = ''\n   |  hmac      = 'pQ\\xd7\\x8e\\xa4\\x80\\xc5\\xaa\\xca\\xc1\\xdc\\xec\\xcb\\x0b\\x9f\\x0b;Jg\\xfa'\n   |  data      = '\\xdf\\xc5ER=\\xa0\\xec\\xe1\\xcb\\x8e39[A\\x8f\\xdc\\xca\\x14t/<\\xa7d\\x9c\\xb9\\x8b\\x05\\x05\\x9dm\\x9e\\xdd\\xe1\\xb5+7\\x9d\\r\\x006-\\x90\\xaa\\x04\\x1c\\x12\\xde\\x8e\\xb4\\xf5\\xcei\\xb7.\\xba0\\xc6\\xca\\xe4\\xbe\\xb8p\\xb6\\x12r6\\xd2\\x12\\xce\\x9b\\xb1-}\\xd9Z\\x96\\xffFx\\xd5T\\xdah\\xf7\\xbf\\xaf\\xd0l\\x8b\\xffV\\x0ba\\x1e^\\x11\\x9b\\xadyoP\\xfdvV\\xdf\\x08\\xa6\\xbdc\\xda\\xfaU\\xb5\\xc0NC\\\\+\\x03\\x1c\\xc2\\xb0\\x87{vi\\x1f\\xf9'\n\n"
    }
   ],
   "source": "ssfs_data.show()"
  },
  {
   "cell_type": "markdown",
   "metadata": {},
   "source": "As can be observed, a SSFS Data file contains multiple records with different key/value pairs, as well as associated meta data.\n\nSome records contain values stored in plaintext, while others are stored in an encrypted fashion. We'll see a password record, which is stored encrypted:"
  },
  {
   "cell_type": "code",
   "execution_count": 49,
   "metadata": {},
   "outputs": [
    {
     "name": "stdout",
     "output_type": "stream",
     "text": "###[ SAP SSFS Data Record ]### \n  preamble  = 'RSecSSFsData'\n  length    = 304\n  type      = 1\n  filler1   = ''\n  key_name  = 'HDB/KEYNAME/DB_PASSWORD                                         '\n  timestamp = '2019-11-26 16:15:40 UTC'\n  user      = 'SomeUser                '\n  host      = 'ubuntu                  '\n  is_deleted= no\n  is_stored_as_plaintext= no\n  is_binary_data= no\n  filler2   = ''\n  hmac      = 'pQ\\xd7\\x8e\\xa4\\x80\\xc5\\xaa\\xca\\xc1\\xdc\\xec\\xcb\\x0b\\x9f\\x0b;Jg\\xfa'\n  data      = '\\xdf\\xc5ER=\\xa0\\xec\\xe1\\xcb\\x8e39[A\\x8f\\xdc\\xca\\x14t/<\\xa7d\\x9c\\xb9\\x8b\\x05\\x05\\x9dm\\x9e\\xdd\\xe1\\xb5+7\\x9d\\r\\x006-\\x90\\xaa\\x04\\x1c\\x12\\xde\\x8e\\xb4\\xf5\\xcei\\xb7.\\xba0\\xc6\\xca\\xe4\\xbe\\xb8p\\xb6\\x12r6\\xd2\\x12\\xce\\x9b\\xb1-}\\xd9Z\\x96\\xffFx\\xd5T\\xdah\\xf7\\xbf\\xaf\\xd0l\\x8b\\xffV\\x0ba\\x1e^\\x11\\x9b\\xadyoP\\xfdvV\\xdf\\x08\\xa6\\xbdc\\xda\\xfaU\\xb5\\xc0NC\\\\+\\x03\\x1c\\xc2\\xb0\\x87{vi\\x1f\\xf9'\n\n"
    }
   ],
   "source": "ssfs_data.records[-1].show()"
  },
  {
   "cell_type": "markdown",
   "metadata": {},
   "source": "Additionally, each SSFS record contains an HMAC-SHA1 value calculated using a fixed key. The intent of this value is to provide integrity validation as well as ensure that an authentic tool was used to generate the files:"
  },
  {
   "cell_type": "code",
   "execution_count": 50,
   "metadata": {},
   "outputs": [
    {
     "data": {
      "text/plain": "True"
     },
     "execution_count": 50,
     "metadata": {},
     "output_type": "execute_result"
    }
   ],
   "source": "ssfs_data.records[-1].valid"
  },
  {
   "cell_type": "markdown",
   "metadata": {},
   "source": "### SSFS Key content"
  },
  {
   "cell_type": "code",
   "execution_count": 51,
   "metadata": {},
   "outputs": [
    {
     "name": "stdout",
     "output_type": "stream",
     "text": "###[ SAP SSFS Key ]### \n  preamble  = 'RSecSSFsKey'\n  type      = 1\n  key       = '5\\x8d*9\\x1b\\xe6E\\xd6\\xf21\\xeb[RX\\xa6<\\xea\\xbf{Zza\\x06\\xa0'\n  timestamp = '2019-11-26 16:15:40 UTC'\n  user      = 'SomeUser                '\n  host      = 'ubuntu                  '\n\n"
    }
   ],
   "source": "ssfs_key.show()"
  },
  {
   "cell_type": "markdown",
   "metadata": {},
   "source": "## SSFS Value access\n\nThe values contained in SSFS Data records can be accessed by providing the key name:"
  },
  {
   "cell_type": "code",
   "execution_count": 52,
   "metadata": {},
   "outputs": [
    {
     "data": {
      "text/plain": "'SomeUser'"
     },
     "execution_count": 52,
     "metadata": {},
     "output_type": "execute_result"
    }
   ],
   "source": "ssfs_data.get_value('HDB/KEYNAME/DB_USER')"
  },
  {
   "cell_type": "markdown",
   "metadata": {},
   "source": "### SSFS Data content decryption\n\nFor those records that are stored encrypted, it's possible to access the right value by providing the key name and the proper SSFS decryption key structure:"
  },
  {
   "cell_type": "code",
   "execution_count": 53,
   "metadata": {},
   "outputs": [
    {
     "data": {
      "text/plain": "'SomePassword'"
     },
     "execution_count": 53,
     "metadata": {},
     "output_type": "execute_result"
    }
   ],
   "source": "ssfs_data.get_value('HDB/KEYNAME/DB_PASSWORD', ssfs_key)"
  },
  {
   "cell_type": "markdown",
   "metadata": {},
   "source": "## SSFS Decrypted Payload structure\n\nThe decryption mechanism can be user to obtain the raw data stored encrypted:"
  },
  {
   "cell_type": "code",
   "execution_count": 54,
   "metadata": {},
   "outputs": [
    {
     "data": {
      "text/plain": "\"lWF\\x96`c\\xacc\\x00\\x00\\x00\\x0c\\xfd\\x9d<\\xde2G\\xe0\\xf2\\x8cE\\xddj\\xff\\x8e\\x12\\\\O\\xea6\\xc7SomePassword!\\x19\\xd3\\x8d]\\xab\\xda\\xb6\\xd3\\xc4\\xbeK\\x0e\\x86\\x00\\xad'\\xe6\\xff%C.a\\xd1vde\\x1a\\x88,N\\xd3\\x9e\\x87\\xab\\xc3\\xf2'U\\xcd\\xe2<\\xeb65se4j\\x0f\\xbc\\xa5V\\xee\\xe9M\\xbc\\xddx>\\\\\\x18\\xa9\\x87\\xdae\\x12\\xb4\\x0c\\x86\\x89\\x0fdG\\xde%\\xed4\\xd7\\x02\\xf3Z\\xed\\xb5\""
     },
     "execution_count": 54,
     "metadata": {},
     "output_type": "execute_result"
    }
   ],
   "source": "decrypted_blob = rsec_decrypt(ssfs_data.get_record('HDB/KEYNAME/DB_PASSWORD').data, ssfs_key.key)\ndecrypted_blob"
  },
  {
   "cell_type": "markdown",
   "metadata": {},
   "source": "It's possible also to parse that raw data and obtain the underlying strucutures and meta data associated:"
  },
  {
   "cell_type": "code",
   "execution_count": 55,
   "metadata": {},
   "outputs": [
    {
     "name": "stdout",
     "output_type": "stream",
     "text": "###[ SAP SSFS Decrypted Payload ]### \n  preamble  = 'lWF\\x96`c\\xacc'\n  length    = 12\n  hash      = '\\xfd\\x9d<\\xde2G\\xe0\\xf2\\x8cE\\xddj\\xff\\x8e\\x12\\\\O\\xea6\\xc7'\n  data      = 'SomePassword'\n  padd      = \"!\\x19\\xd3\\x8d]\\xab\\xda\\xb6\\xd3\\xc4\\xbeK\\x0e\\x86\\x00\\xad'\\xe6\\xff%C.a\\xd1vde\\x1a\\x88,N\\xd3\\x9e\\x87\\xab\\xc3\\xf2'U\\xcd\\xe2<\\xeb65se4j\\x0f\\xbc\\xa5V\\xee\\xe9M\\xbc\\xddx>\\\\\\x18\\xa9\\x87\\xdae\\x12\\xb4\\x0c\\x86\\x89\\x0fdG\\xde%\\xed4\\xd7\\x02\\xf3Z\\xed\\xb5\"\n\n"
    }
   ],
   "source": "payload = SAPSSFSDecryptedPayload(decrypted_blob)\npayload.show()"
  },
  {
   "cell_type": "markdown",
   "metadata": {},
   "source": "The decrypted payload contains a hash calculated using the SHA-1 algorithm, and that can be used to validate integrity of the entire payload:"
  },
  {
   "cell_type": "code",
   "execution_count": 56,
   "metadata": {},
   "outputs": [
    {
     "data": {
      "text/plain": "True"
     },
     "execution_count": 56,
     "metadata": {},
     "output_type": "execute_result"
    }
   ],
   "source": "payload.valid"
  }
 ],
 "metadata": {
  "kernelspec": {
   "display_name": "Python 2",
   "language": "python",
   "name": "python2"
  },
  "language_info": {
   "codemirror_mode": {
    "name": "ipython",
    "version": 2
   },
   "file_extension": ".py",
   "mimetype": "text/x-python",
   "name": "python",
   "nbconvert_exporter": "python",
   "pygments_lexer": "ipython2",
   "version": "2.7.17"
  }
 },
 "nbformat": 4,
 "nbformat_minor": 2
}
